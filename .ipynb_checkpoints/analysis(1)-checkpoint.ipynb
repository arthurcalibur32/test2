{
 "cells": [
  {
   "cell_type": "code",
   "execution_count": 1,
   "metadata": {
    "ExecuteTime": {
     "end_time": "2019-03-29T05:55:00.410258Z",
     "start_time": "2019-03-29T05:54:59.238986Z"
    }
   },
   "outputs": [
    {
     "name": "stdout",
     "output_type": "stream",
     "text": [
      "Populating the interactive namespace from numpy and matplotlib\n"
     ]
    },
    {
     "name": "stderr",
     "output_type": "stream",
     "text": [
      "d:\\ProgramData\\Anaconda3\\lib\\site-packages\\matplotlib\\cbook\\deprecation.py:106: MatplotlibDeprecationWarning: The finance module has been deprecated in mpl 2.0 and will be removed in mpl 2.2. Please use the module mpl_finance instead.\n",
      "  warnings.warn(message, mplDeprecation, stacklevel=1)\n"
     ]
    }
   ],
   "source": [
    "import pandas as pd\n",
    "import numpy as np\n",
    "from KRData.HKData import *\n",
    "from KRData.util import draw_klines\n",
    "from ib_insync import *\n",
    "import datetime as dt\n",
    "from IPython.display import display, clear_output\n",
    "import sys\n",
    "%pylab inline"
   ]
  },
  {
   "cell_type": "code",
   "execution_count": 2,
   "metadata": {
    "ExecuteTime": {
     "end_time": "2019-03-29T05:55:01.054591Z",
     "start_time": "2019-03-29T05:55:01.028579Z"
    },
    "collapsed": true
   },
   "outputs": [],
   "source": [
    "hf = HKFuture('krdata', 'kairuitouzi')"
   ]
  },
  {
   "cell_type": "code",
   "execution_count": 3,
   "metadata": {
    "ExecuteTime": {
     "end_time": "2019-03-29T05:55:02.988142Z",
     "start_time": "2019-03-29T05:55:01.429304Z"
    },
    "collapsed": true
   },
   "outputs": [],
   "source": [
    "data = hf.get_main_contract_bars('HSI', start='20181201') # 获取需要对照的历史K线"
   ]
  },
  {
   "cell_type": "code",
   "execution_count": 4,
   "metadata": {
    "ExecuteTime": {
     "end_time": "2019-03-29T05:55:03.174197Z",
     "start_time": "2019-03-29T05:55:02.989145Z"
    }
   },
   "outputs": [],
   "source": [
    "util.startLoop()\n",
    "ib = IB()\n",
    "ib.connect('127.0.0.1',7496,clientId=9)\n",
    "hsi1904 = Future('HSI', '201904')\n",
    "ib.qualifyContracts(hsi1904)\n",
    "BN=60\n",
    "FN=60\n",
    "O=100"
   ]
  },
  {
   "cell_type": "code",
   "execution_count": 5,
   "metadata": {
    "ExecuteTime": {
     "end_time": "2019-03-29T05:55:04.851404Z",
     "start_time": "2019-03-29T05:55:04.586367Z"
    },
    "collapsed": true
   },
   "outputs": [],
   "source": [
    "mkData = ib.reqHistoricalData(hsi1904, '', f'{60*O} S', '1 min', 'TRADES', useRTH=False, keepUpToDate=True)"
   ]
  },
  {
   "cell_type": "code",
   "execution_count": 6,
   "metadata": {
    "ExecuteTime": {
     "end_time": "2019-03-29T05:55:05.275665Z",
     "start_time": "2019-03-29T05:55:05.269656Z"
    },
    "collapsed": true
   },
   "outputs": [],
   "source": [
    "def analyze(targetData: pd.DataFrame, sourceData: pd.DataFrame, corrThreshold=0.8):\n",
    "    targetSize = len(targetData)\n",
    "    sourceSize = len(sourceData)\n",
    "    ret = []\n",
    "    for i in range(sourceSize-targetSize):\n",
    "        sc = sourceData[i:i+targetSize]\n",
    "        corr=np.corrcoef(targetData, sc)[0][1]\n",
    "        ret.append([sc.index[0], sc.index[-1], corr])\n",
    "    \n",
    "    gt_threshold = [r for r in ret if r[-1]>corrThreshold]\n",
    "    \n",
    "    # 过滤连续K线高相关\n",
    "    filtedRet = []\n",
    "    if len(gt_threshold)>=2:\n",
    "        r=gt_threshold[0]\n",
    "        for i in range(len(gt_threshold)-1):\n",
    "            if (gt_threshold[i+1][1] -gt_threshold[i][0])*0.9<=(gt_threshold[i][1] -gt_threshold[i+1][0]):\n",
    "                r =gt_threshold[i+1] if gt_threshold[i+1][-1]>r[-1] else r\n",
    "            else:\n",
    "                filtedRet.append(r)\n",
    "                r=gt_threshold[i+1]\n",
    "        else:\n",
    "            filtedRet.append(r)\n",
    "    else:\n",
    "        filtedRet = gt_threshold\n",
    "        \n",
    "    return filtedRet"
   ]
  },
  {
   "cell_type": "code",
   "execution_count": 7,
   "metadata": {
    "ExecuteTime": {
     "end_time": "2019-03-29T06:04:38.656372Z",
     "start_time": "2019-03-29T06:04:38.503323Z"
    }
   },
   "outputs": [],
   "source": [
    "def analyzeHistoricalData(bars, hasNewBar):\n",
    "    if hasNewBar:\n",
    "        targetData = util.df(bars[-O:]).rename(columns={'date':'datetime'})\n",
    "        print('NewBarComing...Calculating!!!')\n",
    "        result = analyze(targetData.close, data.close, 0.85)\n",
    "        if len(result) !=0:\n",
    "            clear_output()\n",
    "            backwardN = dt.timedelta(minutes=BN)\n",
    "            forwardN = dt.timedelta(minutes=FN)\n",
    "            print(f'Get {len(result)} match!!!')\n",
    "            result.sort(key=lambda x: x[-1], reverse=True)\n",
    "            startLine = Line2D([BN-1, BN-1],[0,sys.maxsize] )\n",
    "            endLine = Line2D([O+BN-1, O+BN-1],[0,sys.maxsize] )\n",
    "            top1 = result[0]\n",
    "            top2 = result[1]\n",
    "            top3  = result[2]\n",
    "            print( f'Top1 Corr:{top1[-1]}')\n",
    "            cur_bars = draw_klines(targetData)\n",
    "            display(cur_bars)\n",
    "            fig1 = draw_klines(data[top1[0]-backwardN:top1[1]+forwardN], extra_lines=[startLine, endLine])\n",
    "            p1 = exploreInc(data, top1[1])\n",
    "            display(p1)\n",
    "            display(fig1)\n",
    "            fig2 = draw_klines(data[top2[0]-backwardN:top2[1]+forwardN], extra_lines=[startLine, endLine])\n",
    "            p2 = exploreInc(data, top2[1])\n",
    "            display(p2)\n",
    "            display(fig2)\n",
    "            fig3 = draw_klines(data[top3[0]-backwardN:top3[1]+forwardN], extra_lines=[startLine, endLine])\n",
    "            p3 = exploreInc(data, top3[1])\n",
    "            display(p3)\n",
    "            display(fig3)\n",
    "        else:\n",
    "            print(\"Get No match\")"
   ]
  },
  {
   "cell_type": "code",
   "execution_count": 8,
   "metadata": {
    "ExecuteTime": {
     "end_time": "2019-03-29T06:02:49.897126Z",
     "start_time": "2019-03-29T06:02:49.772108Z"
    }
   },
   "outputs": [],
   "source": [
    "def exploreInc(data:pd.DataFrame, _t: dt.datetime, interval=5):\n",
    "    n=int(FN/interval)\n",
    "    _interval = dt.timedelta(minutes=interval)\n",
    "    _temp = data[_t:_t + _interval*n]\n",
    "    _p = _temp.asof(_t).close\n",
    "    _priceList = []\n",
    "    for i in range(0, n):\n",
    "        nextN = _temp.asof(_t + _interval*(i+1))\n",
    "        t = nextN.datetime\n",
    "        p = nextN.close\n",
    "        _priceList.append([t,round((p-_p)/_p,6)])\n",
    "    return _priceList\n",
    "        "
   ]
  },
  {
   "cell_type": "code",
   "execution_count": 9,
   "metadata": {
    "ExecuteTime": {
     "end_time": "2019-03-29T06:04:54.481206Z",
     "start_time": "2019-03-29T06:04:54.477229Z"
    }
   },
   "outputs": [],
   "source": [
    "mkData.updateEvent += analyzeHistoricalData"
   ]
  },
  {
   "cell_type": "code",
   "execution_count": null,
   "metadata": {
    "collapsed": true
   },
   "outputs": [],
   "source": []
  }
 ],
 "metadata": {
  "kernelspec": {
   "display_name": "Python 3",
   "language": "python",
   "name": "python3"
  },
  "language_info": {
   "codemirror_mode": {
    "name": "ipython",
    "version": 3
   },
   "file_extension": ".py",
   "mimetype": "text/x-python",
   "name": "python",
   "nbconvert_exporter": "python",
   "pygments_lexer": "ipython3",
   "version": "3.6.3"
  }
 },
 "nbformat": 4,
 "nbformat_minor": 2
}
